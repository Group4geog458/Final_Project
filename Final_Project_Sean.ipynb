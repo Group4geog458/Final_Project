{
 "cells": [
  {
   "cell_type": "code",
   "execution_count": 1,
   "metadata": {},
   "outputs": [],
   "source": [
    "import geopandas as gpd\n",
    "import pandas as pd\n",
    "import matplotlib as mpl\n",
    "import matplotlib.pyplot as plt\n",
    "import numpy as np\n",
    "import seaborn as sns\n",
    "import xlrd as xlrd"
   ]
  },
  {
   "cell_type": "code",
   "execution_count": 2,
   "metadata": {},
   "outputs": [],
   "source": [
    "#Macklan's CODE\n",
    "fema = gpd.read_file(\"Data\\\\FEMA_6\\\\FEMA_6.shp\")\n",
    "fema = fema.sort_values(by='CTFIPS')"
   ]
  },
  {
   "cell_type": "code",
   "execution_count": 3,
   "metadata": {},
   "outputs": [],
   "source": [
    "#Macklan's CODE\n",
    "def ag_count(state):\n",
    "    data = gpd.read_file(\"Data/SoVI2010_\" + state + \"/SoVI0610_\" + state + \".shp\")\n",
    "    \n",
    "    ## Creating CTFIPS, which FEMA data uses for counties\n",
    "    data['CTFIPS'] = data['STATEFP10'] + data['COUNTYFP10']\n",
    "    \n",
    "    ## Aggregating SOVI data from block to county level\n",
    "    data = data.groupby('CTFIPS').agg({\"SOVI0610\" + state: \"mean\", \"P0010001\": \"sum\"})\n",
    "   \n",
    "    ## Combining fema and sovi data for each county\n",
    "    data = fema.merge(data, on=\"CTFIPS\", how=\"right\")\n",
    "    \n",
    "    ## Renaming the columns to things that make sense\n",
    "    data = data.rename(columns={\n",
    "        \"SOVI0610\" + state: \"SOVI\",\n",
    "        \"P0010001\": \"POPULATION\",\n",
    "        \"TOTAL_DECL\": \"TOTAL_DECLARATIONS\"\n",
    "    })\n",
    "    \n",
    "    data = data.sort_values(by='CTFIPS')\n",
    "    \n",
    "    ## Creating a scale of the SOVI and FEMA data from 1 - number of counties in a state\n",
    "    data['SOVI_SCORE'] = data['SOVI'].rank()\n",
    "    data['FEMA_SCORE'] = data['TOTAL_DECLARATIONS'].rank()\n",
    "    sovi = []\n",
    "    fema_ranks = []\n",
    "    rank = []\n",
    "    n = len(data)\n",
    "    \n",
    "    ## Taking the SOV_SCORE and FEMA_SCORE, assign a SOVI_RANK and FEMA_RANK\n",
    "    ## Rank = the correlation of SOV_SCORE and FEMA_SCORE, matching highs and lows and finding where it is different\n",
    "    for index, row in data.iterrows():\n",
    "        if row.SOVI_SCORE < (n/3):\n",
    "            ## Low - Low = 1\n",
    "            if row.FEMA_SCORE < (n/3):\n",
    "                rank.append(1)\n",
    "                fema_ranks.append(1)\n",
    "            ## Low - High = 2\n",
    "            elif row.FEMA_SCORE > (2 * (n/3)):\n",
    "                rank.append(2)\n",
    "                fema_ranks.append(3)\n",
    "            ## Medium, don't care for rank\n",
    "            else:\n",
    "                rank.append(-1)\n",
    "                fema_ranks.append(2)\n",
    "            sovi.append(1)\n",
    "        elif row.SOVI_SCORE > (2 * (n/3)):\n",
    "            ## High - High = 4\n",
    "            if row.FEMA_SCORE > (2 * (n/3)):\n",
    "                rank.append(4)\n",
    "                fema_ranks.append(3)\n",
    "            ## High - Low = 3\n",
    "            elif row.FEMA_SCORE < (n/3):\n",
    "                rank.append(3)\n",
    "                fema_ranks.append(1)\n",
    "            ## Medium, don't care for rank\n",
    "            else:\n",
    "                rank.append(-1)\n",
    "                fema_ranks.append(2)\n",
    "            sovi.append(3)\n",
    "        else:\n",
    "            rank.append(-1)\n",
    "            sovi.append(2)\n",
    "            if row.FEMA_SCORE > (2 * (n/3)):\n",
    "                fema_ranks.append(3)\n",
    "            elif row.FEMA_SCORE < (n/3):\n",
    "                fema_ranks.append(1)\n",
    "            else:\n",
    "                fema_ranks.append(2)\n",
    "    ## Attaching the ranks to dataframe\n",
    "    data['RANK'] = rank\n",
    "    data['SOVI_RANK'] = sovi\n",
    "    data['FEMA_RANK'] = fema_ranks\n",
    "    return data\n",
    "\n",
    "CA = ag_count(\"CA\")\n",
    "FL = ag_count(\"FL\")\n",
    "IN = ag_count(\"IN\")\n",
    "LA = ag_count(\"LA\")\n",
    "ME = ag_count(\"ME\")\n",
    "WA = ag_count(\"WA\")"
   ]
  },
  {
   "cell_type": "code",
   "execution_count": 4,
   "metadata": {},
   "outputs": [
    {
     "name": "stderr",
     "output_type": "stream",
     "text": [
      "C:\\Users\\seanf\\Anaconda2\\envs\\LULW\\lib\\site-packages\\pandas\\core\\frame.py:6692: FutureWarning: Sorting because non-concatenation axis is not aligned. A future version\n",
      "of pandas will change to not sort by default.\n",
      "\n",
      "To accept the future behavior, pass 'sort=False'.\n",
      "\n",
      "To retain the current behavior and silence the warning, pass 'sort=True'.\n",
      "\n",
      "  sort=sort)\n"
     ]
    }
   ],
   "source": [
    "##Macklan's CODE\n",
    "## Combining all of the states into one dataframe\n",
    "## The rank columns don't show because there is 52 columns, so they are hidden\n",
    "sovi = CA.append([FL, IN, LA, ME, WA])\n",
    "sovi = sovi.sort_values(by='CTFIPS')\n",
    "#sovi.head()"
   ]
  },
  {
   "cell_type": "code",
   "execution_count": 5,
   "metadata": {},
   "outputs": [],
   "source": [
    "## Beginning of Sean's CODE, previous is Macklan's\n",
    "import geopandas as gpd\n",
    "import pandas as pd\n",
    "import matplotlib as mpl\n",
    "import matplotlib.pyplot as plt\n",
    "import numpy as np\n",
    "import seaborn as sns\n",
    "import xlrd as xlrd\n",
    "\n",
    "##Making sure CTFIPS in both tables are same type\n",
    "sovi['CTFIPS'] = sovi['CTFIPS'].astype(int)\n",
    "\n",
    "##Reading in poverty data\n",
    "poverty = pd.read_excel(\"Data\\\\PovertyRate6States_Counties.xlsx\")\n",
    "poverty = poverty.sort_values(by='CTFIPS')\n",
    "\n",
    "##Making sure CTFIPS in both tables are same type\n",
    "poverty['CTFIPS'] = poverty['CTFIPS'].astype(int)\n",
    "#poverty.head()\n"
   ]
  },
  {
   "cell_type": "code",
   "execution_count": 23,
   "metadata": {
    "scrolled": true
   },
   "outputs": [],
   "source": [
    "##Merging Poverty table to SoVI table\n",
    "poverty = sovi.merge(poverty, on='CTFIPS', how='right')\n",
    "#poverty['CTFIPS']\n",
    "\n",
    "#print(poverty.columns.values) #making sure it worked\n",
    "\n",
    "poverty = poverty.rename(columns={'RANK_x': 'RANK'}) #Renaming because colums duplicated when merged\n",
    "#print(poverty['RANK'])\n"
   ]
  },
  {
   "cell_type": "code",
   "execution_count": 7,
   "metadata": {},
   "outputs": [],
   "source": [
    "##The code that is #'d ahead is my attempt at linear regression between two variables, was unable to figure it out\n",
    "##Does not have to be included in final product\n",
    "\n",
    "\n",
    "#X = poverty['RANK']\n",
    "#print(X)\n",
    "#Y = poverty['PERCENT']\n",
    "#print(Y)"
   ]
  },
  {
   "cell_type": "code",
   "execution_count": 8,
   "metadata": {},
   "outputs": [],
   "source": [
    "#sns.distplot(poverty['RANK'])"
   ]
  },
  {
   "cell_type": "code",
   "execution_count": 9,
   "metadata": {},
   "outputs": [],
   "source": [
    "#df_x = pd.DataFrame(poverty.RANK)\n",
    "#df_x.describe()\n",
    "#df_y = pd.DataFrame(poverty.PERCENT)\n",
    "#df_y.describe()"
   ]
  },
  {
   "cell_type": "code",
   "execution_count": null,
   "metadata": {},
   "outputs": [],
   "source": []
  },
  {
   "cell_type": "code",
   "execution_count": 10,
   "metadata": {},
   "outputs": [],
   "source": [
    "#from sklearn import linear_model\n",
    "#from sklearn.model_selection import train_test_split"
   ]
  },
  {
   "cell_type": "code",
   "execution_count": 11,
   "metadata": {},
   "outputs": [],
   "source": [
    "#array1 = poverty[['RANK', 'PERCENT']]\n",
    "#print(array1)\n",
    "#array1.corr()"
   ]
  },
  {
   "cell_type": "code",
   "execution_count": 12,
   "metadata": {},
   "outputs": [],
   "source": [
    "#poverty.describe()"
   ]
  },
  {
   "cell_type": "code",
   "execution_count": 13,
   "metadata": {},
   "outputs": [],
   "source": [
    "#reg = linear_model.LinearRegression()"
   ]
  },
  {
   "cell_type": "code",
   "execution_count": 14,
   "metadata": {},
   "outputs": [],
   "source": [
    "#x_train,x_test,y_train,y_test = train_test_split(df_x,df_y,test_size=0.2,random_state=4)"
   ]
  },
  {
   "cell_type": "code",
   "execution_count": 15,
   "metadata": {},
   "outputs": [],
   "source": [
    "#reg.fit(x_train,y_train)"
   ]
  },
  {
   "cell_type": "code",
   "execution_count": 16,
   "metadata": {},
   "outputs": [],
   "source": [
    "#reg.coef_"
   ]
  },
  {
   "cell_type": "code",
   "execution_count": 17,
   "metadata": {},
   "outputs": [],
   "source": [
    "#a=reg.predict(x_test)"
   ]
  },
  {
   "cell_type": "code",
   "execution_count": 18,
   "metadata": {},
   "outputs": [],
   "source": [
    "#a[14]"
   ]
  },
  {
   "cell_type": "code",
   "execution_count": 19,
   "metadata": {},
   "outputs": [],
   "source": [
    "#y_test"
   ]
  },
  {
   "cell_type": "code",
   "execution_count": 20,
   "metadata": {},
   "outputs": [
    {
     "data": {
      "text/plain": [
       "Text(0.5,0,'Declared Disasters')"
      ]
     },
     "execution_count": 20,
     "metadata": {},
     "output_type": "execute_result"
    },
    {
     "data": {
      "image/png": "[encoded data removed]",
      "text/plain": [
       "<Figure size 432x288 with 1 Axes>"
      ]
     },
     "metadata": {
      "needs_background": "light"
     },
     "output_type": "display_data"
    }
   ],
   "source": [
    "##Beginning of Correlation Code between multiple variables/relationships\n",
    "\n",
    "%matplotlib inline\n",
    "\n",
    "import matplotlib\n",
    "import numpy as np\n",
    "import matplotlib.pyplot as plt\n",
    "import pandas as pd\n",
    "#poverty.columns\n",
    "#poverty.shape\n",
    "#poverty.info()\n",
    "\n",
    "poverty_0 = poverty.drop(poverty[poverty.RANK < 0].index) #Removed ranks less than 0 because they are all \"Medium\"\n",
    "plt.scatter(poverty_0.PERCENT,poverty_0.RANK) #Scatter Plot to see correlation more clearly\n",
    "poverty_0['RANK'].corr(poverty_0['PERCENT']) #Correlation between Rank and Poverty Rate\n",
    "plt.ylabel('SoVI Rank')\n",
    "plt.xlabel('Declared Disasters')"
   ]
  },
  {
   "cell_type": "code",
   "execution_count": 21,
   "metadata": {},
   "outputs": [
    {
     "data": {
      "text/plain": [
       "Text(0.5,0,'Declared Disasters')"
      ]
     },
     "execution_count": 21,
     "metadata": {},
     "output_type": "execute_result"
    },
    {
     "data": {
      "image/png": "[encoded data removed]",
      "text/plain": [
       "<Figure size 432x288 with 1 Axes>"
      ]
     },
     "metadata": {
      "needs_background": "light"
     },
     "output_type": "display_data"
    }
   ],
   "source": [
    "#Correlation and Scatter for Declared Disasters and SoVI Score\n",
    "poverty_0['TOTAL_DECLARATIONS'].corr(poverty_0['SOVI_SCORE'])\n",
    "plt.scatter(poverty_0.TOTAL_DECLARATIONS,poverty_0.SOVI)\n",
    "plt.ylabel('SOVI Score')\n",
    "plt.xlabel('Declared Disasters')"
   ]
  },
  {
   "cell_type": "markdown",
   "metadata": {},
   "source": [
    "\n"
   ]
  },
  {
   "cell_type": "code",
   "execution_count": 22,
   "metadata": {},
   "outputs": [
    {
     "data": {
      "text/plain": [
       "Text(0.5,0,'Declared Disasters')"
      ]
     },
     "execution_count": 22,
     "metadata": {},
     "output_type": "execute_result"
    },
    {
     "data": {
      "image/png": "[encoded data removed]",
      "text/plain": [
       "<Figure size 432x288 with 1 Axes>"
      ]
     },
     "metadata": {
      "needs_background": "light"
     },
     "output_type": "display_data"
    }
   ],
   "source": [
    "##Correlation and Scatter for Declared Disasters and Poverty Rate\n",
    "poverty_0['TOTAL_DECLARATIONS'].corr(poverty_0['PERCENT'])\n",
    "plt.scatter(poverty_0.TOTAL_DECLARATIONS,poverty_0.PERCENT)\n",
    "plt.ylabel('Poverty Rate')\n",
    "plt.xlabel('Declared Disasters')"
   ]
  },
  {
   "cell_type": "markdown",
   "metadata": {},
   "source": [
    "- Weak uphill linear relationship between SOVI Rank and Poverty Percentage.\n",
    "- Weak downhill linear relationship between Total number of declarations per county and SOVI Score.\n",
    "- Very weak relationship between the number of declared disasters in a county and the poverty rate of that county.\n",
    "\n",
    "From these findings we can conclude that there is a very weak linear relationship between SoVI Rank and Poverty Rate (0.2382112946516158), as well as FEMA Declarations and SoVI Score(-0.2618102351422398).\n",
    "\n",
    "In the graph showing the SoVI Ranks and Poverty Rates, the clusters between ranks 1-4 move right slightly to higher poverty rates, but not enough to indicate there is a strong relationship.\n",
    "\n",
    "We even calculated the number of disaster declarations per county and compared them to the poverty rate, but found an even weaker relationship between these two variables (-0.10765106401114274)."
   ]
  },
  {
   "cell_type": "code",
   "execution_count": null,
   "metadata": {},
   "outputs": [],
   "source": []
  }
 ],
 "metadata": {
  "kernelspec": {
   "display_name": "Python 2",
   "language": "python",
   "name": "python2"
  },
  "language_info": {
   "codemirror_mode": {
    "name": "ipython",
    "version": 2
   },
   "file_extension": ".py",
   "mimetype": "text/x-python",
   "name": "python",
   "nbconvert_exporter": "python",
   "pygments_lexer": "ipython2",
   "version": "2.7.15"
  }
 },
 "nbformat": 4,
 "nbformat_minor": 2
}
