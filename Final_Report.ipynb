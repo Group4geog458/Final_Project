{
 "cells": [
  {
   "cell_type": "markdown",
   "metadata": {
    "slideshow": {
     "slide_type": "slide"
    }
   },
   "source": [
    "# Part 1 - Introduction to our Research Question and Data\n",
    "\n",
    "   Within the past 20 years, there has been a major increase of weather-related disasters in the US. Climate change has been accelerating the rate at which massive storm events are hitting [the country](https://www.economist.com/graphic-detail/2017/08/29/weather-related-disasters-are-increasing). This increase worsens wealth inequalities and social vulnerabilities across states. There is also an increase in federal spending on various forms of financial aid. The federal government annually spends billions of dollars on rebuilding and future protection, but funds are usually concentrated in communities that are [less socially vulnerable and more economically viable](https://www.npr.org/2019/03/05/688786177/how-federal-disaster-money-favors-the-rich). Through the Stafford Act, a governor can request that the President declare that a major disaster exists in a affected area to ensure federal aid and assistance. The President must deem either an Emergency Declaration or a Major Disaster Declaration to provide [federal funds](https://www.fema.gov/disaster-declaration-process) to the states. A major disaster can include any “hurricane, tornado, storm, high water, wind-driven water, tidal wave, tsunami, earthquake, volcanic eruption, landslide, mudslide, snowstorm, or drought, or, regardless of cause, fire, flood, or explosion.” Through the Major Disaster Declaration, the federal government can provide individual assistance, public assistance, and hazard mitigation assistance. Yet, there has been a documented trend that showcases the unequal distribution of assistance between areas and individuals with high social vulnerabilities and those with low [social vulnerabilities](https://theshriverbrief.org/what-natural-disasters-reveal-about-racism-and-poverty-acb545b09405).  \n",
    "\n",
    "Our aim is to analyze the trends and relationships of counties with high and low disaster occurrences and corresponding high and low social vulnerability scores/rankings (SoVI). By numerically classifying FEMA disaster counts in counties, we can look at where most disasters are and explore the social vulnerability of that area. To accommodate the limited scope of this class's project, we chose to focus our efforts on 6 states that are located relatively equi-distant across the US (including both coasts and the midwest). Our research intends to consider the variations between disaster-prone counties and their social vulnerability.\n",
    "\n",
    "###  Data and Source Description:  \n",
    "\n",
    "###### Social Vulnerability  \n",
    "Our 2010-2014 Social Vulnerability Index data was obtained from [NOAA (https://coast.noaa.gov/digitalcoast/data/sovi.html) and was calculated by the [University of South Carolina Hazards and Vulnerability Research Institute](http://artsandsciences.sc.edu/geog/hvri/sovi%C2%AE-0). This index measures the social vulnerability of U.S. census tracts to environmental hazards. It is calculated from synthesizing \"[29 socioeconomic variables](http://artsandsciences.sc.edu/geog/hvri/sovi%C2%AE-evolution), which the research literature suggests contribute to reduction in a community’s ability to prepare for, respond to, and recover from hazards. SoVI data sources include primarily those from the United States Census Bureau\". This comprehensive composite score represents a potential degree of damage for communities. We chose to examine six states, each from a different [FEMA-designated region](https://gis.fema.gov/maps/FEMA_Presidential_Disaster_Declarations_2000_2016.pdf): Washington, California, Indiana, Louisiana, Florida, and Maine. Our reasoning for this selection was to study a smaller sample of states at different locations.  \n",
    "###### Disaster Occurrences  \n",
    "This shapefile was downloaded from [FEMA](https://gis.fema.gov/DataFeeds.html) and is originally named \"Historical Disaster Occurrences\". This dataset covers the entire United States at the county level from 1964-2015. Our analysis examines the total count of disasters per county, although there is data about counts for specific types of disasters.  \n",
    "###### Poverty  \n",
    "This dataset is available for each state in 2017 on the county level. It is from the [Economic Research Service](https://data.ers.usda.gov/reports.aspx?ID=17826) at the United States Department of Agriculture (USDA), and its source is the Census Bureau’s [Small Area Income and Poverty Estimates](https://census.gov/programs-surveys/saipe.html) (SAIPE) program.  \n",
    "\n",
    "With data there are always possible issues and limitations that may arise. Because of data only being available at a specific timeframe, there will likely be a disconnect between past data and more recent years. However, this may not cause any large problems in our exploratory reporting and research. We chose to aggregate the tract-level SoVI data in order to directly compare to the county-level disaster counts. This may lead to small error in estimation. Additionally, [NOAA ](https://coast.noaa.gov/digitalcoast/data/sovi.html) had SoVI data on only 31 states for 2010, including only “coastal” states. Lastly, the format of the FEMA disaster data is a simple count. This source only tells the quantity and type of disaster, not the intensity, amount of damage caused, or any other factor.  \n",
    "Income and poverty are major actors in how communities establish resilience. Local poverty rates will aid in looking at the impacts of disasters and can highlight the correlation among social vulnerability, income, and location. Part 3 of this project explores the above relationships between the FEMA disaster occurrences and the SoVI scores, and adds a third variable of poverty/income data in order to conduct a valid correlation test.  \n"
   ]
  },
  {
   "cell_type": "markdown",
   "metadata": {
    "slideshow": {
     "slide_type": "slide"
    }
   },
   "source": [
    "# Part 2 \n",
    "\n",
    "[Map](http://students.washington.edu/macklanb/geog_458/map.html)\n",
    "[Data manipulation and code for map creation](https://github.com/Group4geog458/Final_Project/blob/master/DataAndMap_1.ipynb)"
   ]
  },
  {
   "cell_type": "markdown",
   "metadata": {
    "slideshow": {
     "slide_type": "slide"
    }
   },
   "source": [
    "# Summary of Data Manipulation and Map Explanation \n",
    "\n",
    "Code is provided in the `DataAndMaps_1` notebook linked above. The SoVI data was downloaded separately by state. First we merged these files together and then aggregated them up to the county level based on the county’s code field `CTFIPS`. From here, the SoVI data was joined with the FEMA data. An important step for this was to rename some variables, as the same field had slightly different names for different states (ex: `SoVI` vs `SOVI`). Next, three rankings were calculated to create different map layers from.  \n",
    "\n",
    "* `SOVI` - In order to rank these for our purposes and to more simply feed this data into a folium map there are a few stages of data manipulation completed beforehand. The SoVI dataset inherently provided a nominal ranking (high, medium, low) based on a tract’s raw numerical score (`SOVI`) . Based on this attribute, a `SOVI_SCORE` (essentially a numbered list) was calculated for each state, so each county was scored out of the total number of each state’s counties. From this ordered list by state, a rank was assigned to state’s by slicing the range of observations into thirds. It is important to note that the new SOVI_SCORE attribute allowed us to not have to find and save the scores that would be the breakpoints, this way the break points are just n/3 and 2n/3 with n being the number of counties in a state. The output is a new attribute named `SOVI_RANK` where the top third, the higher SoVI scores, were assigned a 3. The lower third, those assigned the lowest SoVI scores, were assigned a 1. The middle, which we chose to ignore for this study, was assigned a “2”.  \n",
    "\n",
    "* `FEMA` - The `TOTAL_DECLARATIONS` attribute is the raw count of the number of disaster events for each county. In order to eventually rank these disaster occurrence counts a `FEMA_SCORE` attribute was created in the same manner the `SOVI_SCORE` was, so `FEMA_SCORE` is a numbered list where each county’s number of disaster events were scored out of the total number of each state’s counties. From here `FEMA_RANK` was calculated in the same manner as `SOVI_SCORE`, where from the ordered list by state `FEMA_SCORE`, a rank was assigned to state’s counties by slicing the range of observations into thirds. The output is a new attribute named `FEMA_RANK` where the top third of disaster occurrences was assigned a 3, the lowest third was a 1, and the middle third was assigned a 2.  \n",
    "\n",
    "* `RANK` - Here, we combine the `SOVI_RANK` and `FEMA_RANK` columns based on their High and Low relationships. Again the medium values in the middle of each range were not considered here because we are focusing only on the extreme values (these middle rankings were assigned a -1).  \n",
    "+ (L-L) A ranking of 1 represents counties with the lowest SoVI scores and lowest number of disaster occurrences. A county is not considered vulnerable and also does not experience a high number of disasters.  \n",
    "+ (L-H) A 2 means these counties have the lowest SoVI scores and highest number of disaster occurrences. Interestingly enough, these are counties that experiences many disasters but it not considered socially vulnerable.  \n",
    "+ (H-L) A 3 means these counties have the highest SoVI scores and the lowest number of disaster occurrences. These counties are very vulnerable but avoid large amounts of natural disasters.  \n",
    "+ (H-H) Finally, a 4 indicates counties with both high SoVI scores and number of disaster occurrences. These areas are particularly interesting to us because they are hit especially hard with natural disasters and have been assessed to be vulnerable to these events.  \n",
    "\n",
    "Poverty data for our selected states was also downloaded separately. This dataset, from 2017, was already on the county level and was joined with the SoVI and FEMA disaster data. Correlations were calculated for each combination of our variables.  \n",
    "\n"
   ]
  },
  {
   "cell_type": "markdown",
   "metadata": {
    "slideshow": {
     "slide_type": "slide"
    }
   },
   "source": [
    "# Map Discussion\n",
    "\n",
    "  A visual overview of the data on a map shows no normal distribution for neither the FEMA disasters nor the SoVI. Significant variation is shown both within and between states. The SoVI particularly has an unpredictable distribution with counties of high vulnerability neighboring those with low vulnerability. Some clustering of similar values is apparent, but all values are spread across each state in our analysis. The FEMA disasters have a higher degree of clustering, but the values are also scattered. Coastal areas near the Gulf of Mexico tend to have high disaster counts, while more inland regions such as eastern Washington and northwestern California exhibit lower counts. Examining our designated rank variable shows similar risk areas in the Gulf of Mexico region.  \n",
    "Major cities along the coastline tend to have a higher frequency of disasters because of coastal flooding and hurricanes. An example of this would be the cities along the Gulf of Mexico, like New Orleans, Fort Myers and Sarasota in Florida. Another correlation between a high number of disasters and geographic location is southern Illinois. Illinois is located on the northeastern edge of [“tornado alley”](https://www2.illinois.gov/iema/Mitigation/Pages/HazardInfo.aspx), which increases the rate and frequency at which southern Illinois is impacted by disasters. This could be a major reason why we see a clump of high-disaster and high-vulnerability in this region.  \n",
    "\n",
    "  Additionally, we are especially interested in comparing highly disaster-prone areas - counties with `RANK`s 2 (L-H) and 4 (H-H). What makes these counties different socially, politically, economically, and demographically? They both experience a high number of disasters but one group is assessed to be able to better withstand and overcome these events yet the other is considered highly at risk, or as stated by the [USC Index documentation](http://artsandsciences.sc.edu/geog/hvri/sovi%C2%AE-0), a high SoVI score suggests “a reduction in a community’s ability to prepare for, respond to, and recover from hazards”. Due to the limited scope of this project, we are not able to dive deep into these questions and research possible reasons, but we do consider these differences relevant and worthy of additional study. Further research would be useful in examining why and how some counties are experiencing high social vulnerability, and could possibly be used to target communities that need increased infrastructure and prevention methods to raise their resilience. "
   ]
  },
  {
   "cell_type": "markdown",
   "metadata": {
    "slideshow": {
     "slide_type": "slide"
    }
   },
   "source": [
    "# Part 3 - Considering Poverty and Possible Correlation\n",
    "\n",
    "Code is provided in the [Final_Project_Notebook_Sean notebook](https://github.com/Group4geog458/Final_Project/blob/sean/Final_Project_Sean.ipynb).\n",
    "\n",
    "SoVI Score and Disasters:\n",
    "![SoVI Score Disasters](SoVIscore_Disasters.jpg)\n",
    "\n",
    "Poverty Rate and Disasters:\n",
    "![Poverty Rate and Disasters](PovertyRate_Disasters.jpg)\n",
    "\n",
    "Combined Rank and Poverty Rate:\n",
    "![Combined Rank and Poverty Rate](Rank_PovertyRate.jpg)"
   ]
  },
  {
   "cell_type": "markdown",
   "metadata": {},
   "source": [
    "Weak uphill linear relationship between SoVI/Declared Disasters and Poverty Percentage.\n",
    "\n",
    "Weak downhill linear relationship between Total number of declarations per county and SoVI Score.\n",
    "\n",
    "Very weak relationship between the number of declared disasters in a county and the poverty rate of that county.\n",
    "\n",
    "From these findings we can conclude that there is a very weak linear relationship between our calculated rank and the poverty rate (0.238), as well as between FEMA declarations and SoVI Score (-0.262). In the graph showing the SoVI Ranks and Poverty Rates, the clusters between ranks 1-4 move right slightly to higher poverty rates, but not enough to indicate a strong relationship. We also calculated the number of disaster declarations per county and compared them to the poverty rate, but found an even weaker relationship between these two variables (-0.10765106401114274).\n"
   ]
  },
  {
   "cell_type": "markdown",
   "metadata": {},
   "source": [
    "Team Members: Macklan Badger, Emmi Frahler, Gabbey Shelley, Sean Fogelberg, Daniella Mesler"
   ]
  }
 ],
 "metadata": {
  "celltoolbar": "Slideshow",
  "kernelspec": {
   "display_name": "Python 3",
   "language": "python",
   "name": "python3"
  },
  "language_info": {
   "codemirror_mode": {
    "name": "ipython",
    "version": 3
   },
   "file_extension": ".py",
   "mimetype": "text/x-python",
   "name": "python",
   "nbconvert_exporter": "python",
   "pygments_lexer": "ipython3",
   "version": "3.7.2"
  },
  "rise": {
   "scroll": true
  }
 },
 "nbformat": 4,
 "nbformat_minor": 2
}
