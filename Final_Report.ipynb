{
 "cells": [
  {
   "cell_type": "markdown",
   "metadata": {},
   "source": [
    "# Part 1 - Introduction to our Research Question and Data\n",
    "\n",
    "   Within the past 20 years, there has been a major increase of weather-related disasters in the US. Climate change has been accelerating the rate at which massive storm events are hitting [the country](https://www.economist.com/graphic-detail/2017/08/29/weather-related-disasters-are-increasing). This increase in disasters is aiding in the wealth inequalities and social vulnerabilities across states and their counties. With an increase in disasters, there is an increase in federal spending in the form of differents types of financial aid. The federal government annually spends billions of dollars on rebuilding and future protection, but funds are usually more concentrated in less socially vulnerable and more economically [viable communities](https://www.npr.org/2019/03/05/688786177/how-federal-disaster-money-favors-the-rich). Through the Stafford Act, a governor can request that the President declare that a major disaster exists in a affected area to ensure federal aid and assistance. The President must deem either an Emergency Declaration or a Major Disaster Declaration to provide [federal funds](https://www.fema.gov/disaster-declaration-process) to the states. A major disaster can include any “hurricane, tornado, storm, high water, wind-driven water, tidal wave, tsunami, earthquake, volcanic eruption, landslide, mudslide, snowstorm, or drought, or, regardless of cause, fire, flood, or explosion.” Through the Major Disaster Declaration, the federal government can provide individual assistance, public assistance, and hazard mitigation assistance. Yet, there has been a documented trend that showcases the unequal distribution of assistance between areas and individuals with high social vulnerabilities and those with low [social vulnerabilities](https://theshriverbrief.org/what-natural-disasters-reveal-about-racism-and-poverty-acb545b09405).\n",
    "\n",
    "   Our aim is to analyze the trends and relationships of counties with high and low disaster occurrences and corresponding high and low social vulnerability scores/rankings (SoVI). By numerically classifying FEMA disaster counts in counties, we can look at where most disasters are and explore the social vulnerability of that area. To accomdate the limited scope of this class's project, we chose to focus our efforts on 6 states that are located relatively equi-distant across the US (including both coasts and the midwest). Our research intends to consider the variations between disaster-prone counties and their social vulnerability.\n",
    "\n",
    "   Data and Source Description:\n",
    "**1. Social Vulnerability: Our 2010-2014 SoVI data was obtained from [NOAA (https://coast.noaa.gov/digitalcoast/data/sovi.html) and was calculated by the [University of South Carolina Hazards and Vulnerability Research Institute](http://artsandsciences.sc.edu/geog/hvri/sovi%C2%AE-0). This index, downloaded by state at the census tract scale, measures the social vulnerability of U.S. counties to environmental hazards by synthesizing \"29 socioeconomic variables, which the research literature suggests contribute to reduction in a community’s ability to prepare for, respond to, and recover from hazards. SoVI data sources include primarily those from the United States Census Bureau\". A table describing thise variables is available [here](http://artsandsciences.sc.edu/geog/hvri/sovi%C2%AE-evolution). \n",
    "**2. Disaster Occurances: This shapefile was downloaded from [NOAA](https://gis.fema.gov/DataFeeds.html) and is orginally named \"Historical Disaster Occurances\". This is a US wide dataset from 1964-2015 which includes simple counts of the number of disasters that each county experienced during that timeframe. \n",
    "**3. cite povery data here!!!\n",
    "\n",
    "   With data there are always possible issues and limitations that may arise. Becuase of the limitations of the timeframe of our data, there will likely be a disconnect between past data and possibly the most recent history. But this may not cause any large problems in our reporting and research. On the other hand, because of the difference in scales we chose to aggregate the SoVI data up to the county level which may lead to small error in estimation. Additionally, the states that will be considered are mainly coastal states because the [NOAA data reports](https://coast.noaa.gov/digitalcoast/data/sovi.html) primarily on coastal regions. \n",
    "    \n",
    "   Income and poverty are major actors in how communities establish resilience, so poverty rates will aid in looking at the impacts of disasters and can highlight the correlation between social vulnerability, income, and location. So part 3 of our project explores the relationships discussed above, between the FEMA disaster occurances dataset and the SoVI scores, and adds a third variable of poverty/income data so as to conduct a valid correlation test."
   ]
  },
  {
   "cell_type": "markdown",
   "metadata": {},
   "source": [
    "# Part 2 "
   ]
  },
  {
   "cell_type": "markdown",
   "metadata": {},
   "source": [
    "[Map](http://students.washington.edu/macklanb/geog_458/map.html)\n",
    "Data manipulation and code for map creation [here](https://github.com/Group4geog458/Final_Project/blob/master/DataAndMap.ipynb)\n"
   ]
  },
  {
   "cell_type": "markdown",
   "metadata": {},
   "source": [
    "# Summary of Data Manipulation and Map Explanation \n",
    "includes explanation of the variables shown (the ranks/values), each layer, and generally speaking HOW this was calucated from the datasets"
   ]
  },
  {
   "cell_type": "markdown",
   "metadata": {},
   "source": [
    "# Map Discussion\n"
   ]
  },
  {
   "cell_type": "markdown",
   "metadata": {},
   "source": [
    "# Part 3 - Considering Poverty and Possible Correlation\n",
    "Sean's code and graph"
   ]
  },
  {
   "cell_type": "code",
   "execution_count": null,
   "metadata": {},
   "outputs": [],
   "source": [
    "reveal.js HTML presentation framework"
   ]
  }
 ],
 "metadata": {
  "celltoolbar": "Slideshow",
  "kernelspec": {
   "display_name": "Python 3",
   "language": "python",
   "name": "python3"
  },
  "language_info": {
   "codemirror_mode": {
    "name": "ipython",
    "version": 3
   },
   "file_extension": ".py",
   "mimetype": "text/x-python",
   "name": "python",
   "nbconvert_exporter": "python",
   "pygments_lexer": "ipython3",
   "version": "3.7.2"
  }
 },
 "nbformat": 4,
 "nbformat_minor": 2
}
