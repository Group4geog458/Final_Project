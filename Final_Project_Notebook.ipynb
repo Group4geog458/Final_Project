{
 "cells": [
  {
   "cell_type": "code",
   "execution_count": 17,
   "metadata": {},
   "outputs": [],
   "source": [
    "import geopandas as gpd\n",
    "import pandas as pd\n",
    "import dbfread as dbf"
   ]
  },
  {
   "cell_type": "code",
   "execution_count": 50,
   "metadata": {},
   "outputs": [
    {
     "data": {
      "text/html": [
       "<div>\n",
       "<style scoped>\n",
       "    .dataframe tbody tr th:only-of-type {\n",
       "        vertical-align: middle;\n",
       "    }\n",
       "\n",
       "    .dataframe tbody tr th {\n",
       "        vertical-align: top;\n",
       "    }\n",
       "\n",
       "    .dataframe thead th {\n",
       "        text-align: right;\n",
       "    }\n",
       "</style>\n",
       "<table border=\"1\" class=\"dataframe\">\n",
       "  <thead>\n",
       "    <tr style=\"text-align: right;\">\n",
       "      <th></th>\n",
       "      <th>P0010001</th>\n",
       "      <th>SOVI0610FL</th>\n",
       "    </tr>\n",
       "    <tr>\n",
       "      <th>CTFIPS</th>\n",
       "      <th></th>\n",
       "      <th></th>\n",
       "    </tr>\n",
       "  </thead>\n",
       "  <tbody>\n",
       "    <tr>\n",
       "      <th>12001</th>\n",
       "      <td>247336.0</td>\n",
       "      <td>-0.819564</td>\n",
       "    </tr>\n",
       "    <tr>\n",
       "      <th>12003</th>\n",
       "      <td>27115.0</td>\n",
       "      <td>-1.538505</td>\n",
       "    </tr>\n",
       "    <tr>\n",
       "      <th>12005</th>\n",
       "      <td>168852.0</td>\n",
       "      <td>-0.786893</td>\n",
       "    </tr>\n",
       "    <tr>\n",
       "      <th>12007</th>\n",
       "      <td>28520.0</td>\n",
       "      <td>-1.118205</td>\n",
       "    </tr>\n",
       "    <tr>\n",
       "      <th>12009</th>\n",
       "      <td>543369.0</td>\n",
       "      <td>-0.345040</td>\n",
       "    </tr>\n",
       "  </tbody>\n",
       "</table>\n",
       "</div>"
      ],
      "text/plain": [
       "        P0010001  SOVI0610FL\n",
       "CTFIPS                      \n",
       "12001   247336.0   -0.819564\n",
       "12003    27115.0   -1.538505\n",
       "12005   168852.0   -0.786893\n",
       "12007    28520.0   -1.118205\n",
       "12009   543369.0   -0.345040"
      ]
     },
     "execution_count": 50,
     "metadata": {},
     "output_type": "execute_result"
    }
   ],
   "source": [
    "def ag_count(state):\n",
    "    data = gpd.read_file(\"Data\\\\SoVI2010_\" + state + \"\\\\SoVI0610_\" + state + \".shp\")\n",
    "    data['CTFIPS'] = data['STATEFP10'] + data['COUNTYFP10']\n",
    "    return data.groupby('CTFIPS').agg({\"SOVI0610\" + state: \"mean\", \"P0010001\": \"sum\"})\n",
    "\n",
    "CA = ag_count(\"CA\")\n",
    "FL = ag_count(\"FL\")\n",
    "IN = ag_count(\"IN\")\n",
    "LA = ag_count(\"LA\")\n",
    "ME = ag_count(\"ME\")\n",
    "WA = ag_count(\"WA\")"
   ]
  }
 ],
 "metadata": {
  "kernelspec": {
   "display_name": "Python 2",
   "language": "python",
   "name": "python2"
  },
  "language_info": {
   "codemirror_mode": {
    "name": "ipython",
    "version": 2
   },
   "file_extension": ".py",
   "mimetype": "text/x-python",
   "name": "python",
   "nbconvert_exporter": "python",
   "pygments_lexer": "ipython2",
   "version": "2.7.15"
  }
 },
 "nbformat": 4,
 "nbformat_minor": 2
}
